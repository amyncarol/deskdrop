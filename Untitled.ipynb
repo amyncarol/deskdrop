{
 "cells": [
  {
   "cell_type": "code",
   "execution_count": 1,
   "metadata": {
    "collapsed": false
   },
   "outputs": [
    {
     "name": "stdout",
     "output_type": "stream",
     "text": [
      "Dataset ml-100k could not be found. Do you want to download it? [Y/n] Y\n",
      "Trying to download dataset from http://files.grouplens.org/datasets/movielens/ml-100k.zip...\n",
      "Done! Dataset ml-100k has been saved to /Users/yao/.surprise_data/ml-100k\n",
      "Evaluating RMSE, MAE of algorithm SVD on 5 split(s).\n",
      "\n",
      "                  Fold 1  Fold 2  Fold 3  Fold 4  Fold 5  Mean    Std     \n",
      "RMSE (testset)    0.9307  0.9306  0.9434  0.9349  0.9492  0.9377  0.0074  \n",
      "MAE (testset)     0.7335  0.7356  0.7457  0.7363  0.7453  0.7393  0.0052  \n",
      "Fit time          5.52    5.40    5.38    5.39    5.38    5.42    0.05    \n",
      "Test time         0.27    0.19    0.18    0.19    0.16    0.20    0.04    \n"
     ]
    },
    {
     "data": {
      "text/plain": [
       "{'fit_time': (5.518642902374268,\n",
       "  5.4045350551605225,\n",
       "  5.3779380321502686,\n",
       "  5.3925700187683105,\n",
       "  5.381983041763306),\n",
       " 'test_mae': array([0.7334632 , 0.73556851, 0.74569966, 0.73626012, 0.74532032]),\n",
       " 'test_rmse': array([0.93068272, 0.930623  , 0.94337076, 0.93486752, 0.94916638]),\n",
       " 'test_time': (0.268718957901001,\n",
       "  0.18692302703857422,\n",
       "  0.1848440170288086,\n",
       "  0.18932127952575684,\n",
       "  0.16352200508117676)}"
      ]
     },
     "execution_count": 1,
     "metadata": {},
     "output_type": "execute_result"
    }
   ],
   "source": [
    "from surprise import SVD\n",
    "from surprise import Dataset\n",
    "from surprise.model_selection import cross_validate\n",
    "\n",
    "# Load the movielens-100k dataset (download it if needed).\n",
    "data = Dataset.load_builtin('ml-100k')\n",
    "\n",
    "# Use the famous SVD algorithm.\n",
    "algo = SVD()\n",
    "\n",
    "# Run 5-fold cross-validation and print results.\n",
    "cross_validate(algo, data, measures=['RMSE', 'MAE'], cv=5, verbose=True)"
   ]
  },
  {
   "cell_type": "code",
   "execution_count": null,
   "metadata": {
    "collapsed": true
   },
   "outputs": [],
   "source": []
  }
 ],
 "metadata": {
  "kernelspec": {
   "display_name": "Python [conda env:cancer]",
   "language": "python",
   "name": "conda-env-cancer-py"
  },
  "language_info": {
   "codemirror_mode": {
    "name": "ipython",
    "version": 3
   },
   "file_extension": ".py",
   "mimetype": "text/x-python",
   "name": "python",
   "nbconvert_exporter": "python",
   "pygments_lexer": "ipython3",
   "version": "3.6.8"
  }
 },
 "nbformat": 4,
 "nbformat_minor": 2
}
